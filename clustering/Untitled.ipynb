{
 "cells": [
  {
   "cell_type": "code",
   "execution_count": 394,
   "metadata": {},
   "outputs": [],
   "source": [
    "import pandas as pd\n",
    "import numpy as np\n",
    "import seaborn as sns\n",
    "import matplotlib.pyplot as plt \n",
    "import warnings\n",
    "warnings.filterwarnings(\"ignore\")\n",
    "from sklearn.impute import SimpleImputer"
   ]
  },
  {
   "cell_type": "code",
   "execution_count": 395,
   "metadata": {},
   "outputs": [],
   "source": [
    "df_train=pd.read_csv(\"train_Df64byy.csv\")\n",
    "df_test=pd.read_csv(\"test_YCcRUnU.csv\")"
   ]
  },
  {
   "cell_type": "code",
   "execution_count": 396,
   "metadata": {},
   "outputs": [
    {
     "data": {
      "text/html": [
       "<div>\n",
       "<style scoped>\n",
       "    .dataframe tbody tr th:only-of-type {\n",
       "        vertical-align: middle;\n",
       "    }\n",
       "\n",
       "    .dataframe tbody tr th {\n",
       "        vertical-align: top;\n",
       "    }\n",
       "\n",
       "    .dataframe thead th {\n",
       "        text-align: right;\n",
       "    }\n",
       "</style>\n",
       "<table border=\"1\" class=\"dataframe\">\n",
       "  <thead>\n",
       "    <tr style=\"text-align: right;\">\n",
       "      <th></th>\n",
       "      <th>ID</th>\n",
       "      <th>City_Code</th>\n",
       "      <th>Region_Code</th>\n",
       "      <th>Accomodation_Type</th>\n",
       "      <th>Reco_Insurance_Type</th>\n",
       "      <th>Upper_Age</th>\n",
       "      <th>Lower_Age</th>\n",
       "      <th>Is_Spouse</th>\n",
       "      <th>Health Indicator</th>\n",
       "      <th>Holding_Policy_Duration</th>\n",
       "      <th>Holding_Policy_Type</th>\n",
       "      <th>Reco_Policy_Cat</th>\n",
       "      <th>Reco_Policy_Premium</th>\n",
       "      <th>Response</th>\n",
       "    </tr>\n",
       "  </thead>\n",
       "  <tbody>\n",
       "    <tr>\n",
       "      <th>15479</th>\n",
       "      <td>15480</td>\n",
       "      <td>C29</td>\n",
       "      <td>1695</td>\n",
       "      <td>Owned</td>\n",
       "      <td>Joint</td>\n",
       "      <td>43</td>\n",
       "      <td>42</td>\n",
       "      <td>Yes</td>\n",
       "      <td>X2</td>\n",
       "      <td>6.0</td>\n",
       "      <td>1.0</td>\n",
       "      <td>10</td>\n",
       "      <td>16335.0</td>\n",
       "      <td>0</td>\n",
       "    </tr>\n",
       "    <tr>\n",
       "      <th>6366</th>\n",
       "      <td>6367</td>\n",
       "      <td>C19</td>\n",
       "      <td>423</td>\n",
       "      <td>Owned</td>\n",
       "      <td>Individual</td>\n",
       "      <td>73</td>\n",
       "      <td>73</td>\n",
       "      <td>No</td>\n",
       "      <td>X2</td>\n",
       "      <td>NaN</td>\n",
       "      <td>NaN</td>\n",
       "      <td>19</td>\n",
       "      <td>20774.0</td>\n",
       "      <td>0</td>\n",
       "    </tr>\n",
       "    <tr>\n",
       "      <th>40297</th>\n",
       "      <td>40298</td>\n",
       "      <td>C9</td>\n",
       "      <td>401</td>\n",
       "      <td>Rented</td>\n",
       "      <td>Individual</td>\n",
       "      <td>27</td>\n",
       "      <td>27</td>\n",
       "      <td>No</td>\n",
       "      <td>X1</td>\n",
       "      <td>5.0</td>\n",
       "      <td>3.0</td>\n",
       "      <td>14</td>\n",
       "      <td>6720.0</td>\n",
       "      <td>0</td>\n",
       "    </tr>\n",
       "    <tr>\n",
       "      <th>9035</th>\n",
       "      <td>9036</td>\n",
       "      <td>C11</td>\n",
       "      <td>1909</td>\n",
       "      <td>Owned</td>\n",
       "      <td>Individual</td>\n",
       "      <td>73</td>\n",
       "      <td>73</td>\n",
       "      <td>No</td>\n",
       "      <td>NaN</td>\n",
       "      <td>6.0</td>\n",
       "      <td>4.0</td>\n",
       "      <td>19</td>\n",
       "      <td>18912.0</td>\n",
       "      <td>0</td>\n",
       "    </tr>\n",
       "    <tr>\n",
       "      <th>8992</th>\n",
       "      <td>8993</td>\n",
       "      <td>C8</td>\n",
       "      <td>212</td>\n",
       "      <td>Owned</td>\n",
       "      <td>Joint</td>\n",
       "      <td>40</td>\n",
       "      <td>36</td>\n",
       "      <td>Yes</td>\n",
       "      <td>NaN</td>\n",
       "      <td>2.0</td>\n",
       "      <td>3.0</td>\n",
       "      <td>17</td>\n",
       "      <td>23884.8</td>\n",
       "      <td>0</td>\n",
       "    </tr>\n",
       "    <tr>\n",
       "      <th>43987</th>\n",
       "      <td>43988</td>\n",
       "      <td>C21</td>\n",
       "      <td>4932</td>\n",
       "      <td>Rented</td>\n",
       "      <td>Individual</td>\n",
       "      <td>46</td>\n",
       "      <td>46</td>\n",
       "      <td>No</td>\n",
       "      <td>X5</td>\n",
       "      <td>6.0</td>\n",
       "      <td>3.0</td>\n",
       "      <td>14</td>\n",
       "      <td>12660.0</td>\n",
       "      <td>0</td>\n",
       "    </tr>\n",
       "    <tr>\n",
       "      <th>45198</th>\n",
       "      <td>45199</td>\n",
       "      <td>C8</td>\n",
       "      <td>4201</td>\n",
       "      <td>Owned</td>\n",
       "      <td>Joint</td>\n",
       "      <td>74</td>\n",
       "      <td>73</td>\n",
       "      <td>Yes</td>\n",
       "      <td>X2</td>\n",
       "      <td>13.0</td>\n",
       "      <td>3.0</td>\n",
       "      <td>18</td>\n",
       "      <td>35078.4</td>\n",
       "      <td>0</td>\n",
       "    </tr>\n",
       "    <tr>\n",
       "      <th>23282</th>\n",
       "      <td>23283</td>\n",
       "      <td>C2</td>\n",
       "      <td>632</td>\n",
       "      <td>Owned</td>\n",
       "      <td>Individual</td>\n",
       "      <td>46</td>\n",
       "      <td>46</td>\n",
       "      <td>No</td>\n",
       "      <td>X1</td>\n",
       "      <td>14+</td>\n",
       "      <td>3.0</td>\n",
       "      <td>16</td>\n",
       "      <td>13156.0</td>\n",
       "      <td>0</td>\n",
       "    </tr>\n",
       "    <tr>\n",
       "      <th>30159</th>\n",
       "      <td>30160</td>\n",
       "      <td>C13</td>\n",
       "      <td>396</td>\n",
       "      <td>Owned</td>\n",
       "      <td>Individual</td>\n",
       "      <td>75</td>\n",
       "      <td>75</td>\n",
       "      <td>No</td>\n",
       "      <td>NaN</td>\n",
       "      <td>NaN</td>\n",
       "      <td>NaN</td>\n",
       "      <td>21</td>\n",
       "      <td>22990.0</td>\n",
       "      <td>1</td>\n",
       "    </tr>\n",
       "    <tr>\n",
       "      <th>48843</th>\n",
       "      <td>48844</td>\n",
       "      <td>C17</td>\n",
       "      <td>4355</td>\n",
       "      <td>Owned</td>\n",
       "      <td>Joint</td>\n",
       "      <td>59</td>\n",
       "      <td>17</td>\n",
       "      <td>No</td>\n",
       "      <td>X3</td>\n",
       "      <td>2.0</td>\n",
       "      <td>1.0</td>\n",
       "      <td>2</td>\n",
       "      <td>25662.0</td>\n",
       "      <td>1</td>\n",
       "    </tr>\n",
       "  </tbody>\n",
       "</table>\n",
       "</div>"
      ],
      "text/plain": [
       "          ID City_Code  Region_Code Accomodation_Type Reco_Insurance_Type  \\\n",
       "15479  15480       C29         1695             Owned               Joint   \n",
       "6366    6367       C19          423             Owned          Individual   \n",
       "40297  40298        C9          401            Rented          Individual   \n",
       "9035    9036       C11         1909             Owned          Individual   \n",
       "8992    8993        C8          212             Owned               Joint   \n",
       "43987  43988       C21         4932            Rented          Individual   \n",
       "45198  45199        C8         4201             Owned               Joint   \n",
       "23282  23283        C2          632             Owned          Individual   \n",
       "30159  30160       C13          396             Owned          Individual   \n",
       "48843  48844       C17         4355             Owned               Joint   \n",
       "\n",
       "       Upper_Age  Lower_Age Is_Spouse Health Indicator  \\\n",
       "15479         43         42       Yes               X2   \n",
       "6366          73         73        No               X2   \n",
       "40297         27         27        No               X1   \n",
       "9035          73         73        No              NaN   \n",
       "8992          40         36       Yes              NaN   \n",
       "43987         46         46        No               X5   \n",
       "45198         74         73       Yes               X2   \n",
       "23282         46         46        No               X1   \n",
       "30159         75         75        No              NaN   \n",
       "48843         59         17        No               X3   \n",
       "\n",
       "      Holding_Policy_Duration  Holding_Policy_Type  Reco_Policy_Cat  \\\n",
       "15479                     6.0                  1.0               10   \n",
       "6366                      NaN                  NaN               19   \n",
       "40297                     5.0                  3.0               14   \n",
       "9035                      6.0                  4.0               19   \n",
       "8992                      2.0                  3.0               17   \n",
       "43987                     6.0                  3.0               14   \n",
       "45198                    13.0                  3.0               18   \n",
       "23282                     14+                  3.0               16   \n",
       "30159                     NaN                  NaN               21   \n",
       "48843                     2.0                  1.0                2   \n",
       "\n",
       "       Reco_Policy_Premium  Response  \n",
       "15479              16335.0         0  \n",
       "6366               20774.0         0  \n",
       "40297               6720.0         0  \n",
       "9035               18912.0         0  \n",
       "8992               23884.8         0  \n",
       "43987              12660.0         0  \n",
       "45198              35078.4         0  \n",
       "23282              13156.0         0  \n",
       "30159              22990.0         1  \n",
       "48843              25662.0         1  "
      ]
     },
     "execution_count": 396,
     "metadata": {},
     "output_type": "execute_result"
    }
   ],
   "source": [
    "df_train.sample(10)"
   ]
  },
  {
   "cell_type": "code",
   "execution_count": 397,
   "metadata": {},
   "outputs": [
    {
     "data": {
      "text/html": [
       "<div>\n",
       "<style scoped>\n",
       "    .dataframe tbody tr th:only-of-type {\n",
       "        vertical-align: middle;\n",
       "    }\n",
       "\n",
       "    .dataframe tbody tr th {\n",
       "        vertical-align: top;\n",
       "    }\n",
       "\n",
       "    .dataframe thead th {\n",
       "        text-align: right;\n",
       "    }\n",
       "</style>\n",
       "<table border=\"1\" class=\"dataframe\">\n",
       "  <thead>\n",
       "    <tr style=\"text-align: right;\">\n",
       "      <th></th>\n",
       "      <th>ID</th>\n",
       "      <th>City_Code</th>\n",
       "      <th>Region_Code</th>\n",
       "      <th>Accomodation_Type</th>\n",
       "      <th>Reco_Insurance_Type</th>\n",
       "      <th>Upper_Age</th>\n",
       "      <th>Lower_Age</th>\n",
       "      <th>Is_Spouse</th>\n",
       "      <th>Health Indicator</th>\n",
       "      <th>Holding_Policy_Duration</th>\n",
       "      <th>Holding_Policy_Type</th>\n",
       "      <th>Reco_Policy_Cat</th>\n",
       "      <th>Reco_Policy_Premium</th>\n",
       "    </tr>\n",
       "  </thead>\n",
       "  <tbody>\n",
       "    <tr>\n",
       "      <th>4475</th>\n",
       "      <td>55358</td>\n",
       "      <td>C3</td>\n",
       "      <td>333</td>\n",
       "      <td>Owned</td>\n",
       "      <td>Individual</td>\n",
       "      <td>26</td>\n",
       "      <td>26</td>\n",
       "      <td>No</td>\n",
       "      <td>X3</td>\n",
       "      <td>NaN</td>\n",
       "      <td>NaN</td>\n",
       "      <td>6</td>\n",
       "      <td>6960.0</td>\n",
       "    </tr>\n",
       "    <tr>\n",
       "      <th>11679</th>\n",
       "      <td>62562</td>\n",
       "      <td>C2</td>\n",
       "      <td>3844</td>\n",
       "      <td>Owned</td>\n",
       "      <td>Individual</td>\n",
       "      <td>65</td>\n",
       "      <td>65</td>\n",
       "      <td>No</td>\n",
       "      <td>X3</td>\n",
       "      <td>7.0</td>\n",
       "      <td>3.0</td>\n",
       "      <td>11</td>\n",
       "      <td>20468.0</td>\n",
       "    </tr>\n",
       "    <tr>\n",
       "      <th>4203</th>\n",
       "      <td>55086</td>\n",
       "      <td>C4</td>\n",
       "      <td>1334</td>\n",
       "      <td>Rented</td>\n",
       "      <td>Individual</td>\n",
       "      <td>24</td>\n",
       "      <td>24</td>\n",
       "      <td>No</td>\n",
       "      <td>X1</td>\n",
       "      <td>3.0</td>\n",
       "      <td>2.0</td>\n",
       "      <td>8</td>\n",
       "      <td>10688.0</td>\n",
       "    </tr>\n",
       "    <tr>\n",
       "      <th>11670</th>\n",
       "      <td>62553</td>\n",
       "      <td>C17</td>\n",
       "      <td>4268</td>\n",
       "      <td>Rented</td>\n",
       "      <td>Individual</td>\n",
       "      <td>50</td>\n",
       "      <td>50</td>\n",
       "      <td>No</td>\n",
       "      <td>X1</td>\n",
       "      <td>1.0</td>\n",
       "      <td>1.0</td>\n",
       "      <td>22</td>\n",
       "      <td>12900.0</td>\n",
       "    </tr>\n",
       "    <tr>\n",
       "      <th>11674</th>\n",
       "      <td>62557</td>\n",
       "      <td>C3</td>\n",
       "      <td>64</td>\n",
       "      <td>Rented</td>\n",
       "      <td>Individual</td>\n",
       "      <td>61</td>\n",
       "      <td>61</td>\n",
       "      <td>No</td>\n",
       "      <td>X4</td>\n",
       "      <td>14+</td>\n",
       "      <td>3.0</td>\n",
       "      <td>21</td>\n",
       "      <td>16008.0</td>\n",
       "    </tr>\n",
       "    <tr>\n",
       "      <th>2027</th>\n",
       "      <td>52910</td>\n",
       "      <td>C2</td>\n",
       "      <td>17</td>\n",
       "      <td>Owned</td>\n",
       "      <td>Joint</td>\n",
       "      <td>33</td>\n",
       "      <td>30</td>\n",
       "      <td>Yes</td>\n",
       "      <td>X1</td>\n",
       "      <td>NaN</td>\n",
       "      <td>NaN</td>\n",
       "      <td>11</td>\n",
       "      <td>11760.0</td>\n",
       "    </tr>\n",
       "    <tr>\n",
       "      <th>17332</th>\n",
       "      <td>68215</td>\n",
       "      <td>C34</td>\n",
       "      <td>1012</td>\n",
       "      <td>Rented</td>\n",
       "      <td>Individual</td>\n",
       "      <td>25</td>\n",
       "      <td>25</td>\n",
       "      <td>No</td>\n",
       "      <td>NaN</td>\n",
       "      <td>5.0</td>\n",
       "      <td>2.0</td>\n",
       "      <td>6</td>\n",
       "      <td>6090.0</td>\n",
       "    </tr>\n",
       "    <tr>\n",
       "      <th>3994</th>\n",
       "      <td>54877</td>\n",
       "      <td>C25</td>\n",
       "      <td>2365</td>\n",
       "      <td>Rented</td>\n",
       "      <td>Joint</td>\n",
       "      <td>75</td>\n",
       "      <td>59</td>\n",
       "      <td>No</td>\n",
       "      <td>NaN</td>\n",
       "      <td>10.0</td>\n",
       "      <td>3.0</td>\n",
       "      <td>21</td>\n",
       "      <td>32232.0</td>\n",
       "    </tr>\n",
       "    <tr>\n",
       "      <th>5217</th>\n",
       "      <td>56100</td>\n",
       "      <td>C4</td>\n",
       "      <td>1199</td>\n",
       "      <td>Rented</td>\n",
       "      <td>Individual</td>\n",
       "      <td>25</td>\n",
       "      <td>25</td>\n",
       "      <td>No</td>\n",
       "      <td>X2</td>\n",
       "      <td>NaN</td>\n",
       "      <td>NaN</td>\n",
       "      <td>9</td>\n",
       "      <td>10256.0</td>\n",
       "    </tr>\n",
       "    <tr>\n",
       "      <th>21202</th>\n",
       "      <td>72085</td>\n",
       "      <td>C3</td>\n",
       "      <td>13</td>\n",
       "      <td>Rented</td>\n",
       "      <td>Individual</td>\n",
       "      <td>43</td>\n",
       "      <td>43</td>\n",
       "      <td>No</td>\n",
       "      <td>NaN</td>\n",
       "      <td>NaN</td>\n",
       "      <td>NaN</td>\n",
       "      <td>12</td>\n",
       "      <td>14762.0</td>\n",
       "    </tr>\n",
       "  </tbody>\n",
       "</table>\n",
       "</div>"
      ],
      "text/plain": [
       "          ID City_Code  Region_Code Accomodation_Type Reco_Insurance_Type  \\\n",
       "4475   55358        C3          333             Owned          Individual   \n",
       "11679  62562        C2         3844             Owned          Individual   \n",
       "4203   55086        C4         1334            Rented          Individual   \n",
       "11670  62553       C17         4268            Rented          Individual   \n",
       "11674  62557        C3           64            Rented          Individual   \n",
       "2027   52910        C2           17             Owned               Joint   \n",
       "17332  68215       C34         1012            Rented          Individual   \n",
       "3994   54877       C25         2365            Rented               Joint   \n",
       "5217   56100        C4         1199            Rented          Individual   \n",
       "21202  72085        C3           13            Rented          Individual   \n",
       "\n",
       "       Upper_Age  Lower_Age Is_Spouse Health Indicator  \\\n",
       "4475          26         26        No               X3   \n",
       "11679         65         65        No               X3   \n",
       "4203          24         24        No               X1   \n",
       "11670         50         50        No               X1   \n",
       "11674         61         61        No               X4   \n",
       "2027          33         30       Yes               X1   \n",
       "17332         25         25        No              NaN   \n",
       "3994          75         59        No              NaN   \n",
       "5217          25         25        No               X2   \n",
       "21202         43         43        No              NaN   \n",
       "\n",
       "      Holding_Policy_Duration  Holding_Policy_Type  Reco_Policy_Cat  \\\n",
       "4475                      NaN                  NaN                6   \n",
       "11679                     7.0                  3.0               11   \n",
       "4203                      3.0                  2.0                8   \n",
       "11670                     1.0                  1.0               22   \n",
       "11674                     14+                  3.0               21   \n",
       "2027                      NaN                  NaN               11   \n",
       "17332                     5.0                  2.0                6   \n",
       "3994                     10.0                  3.0               21   \n",
       "5217                      NaN                  NaN                9   \n",
       "21202                     NaN                  NaN               12   \n",
       "\n",
       "       Reco_Policy_Premium  \n",
       "4475                6960.0  \n",
       "11679              20468.0  \n",
       "4203               10688.0  \n",
       "11670              12900.0  \n",
       "11674              16008.0  \n",
       "2027               11760.0  \n",
       "17332               6090.0  \n",
       "3994               32232.0  \n",
       "5217               10256.0  \n",
       "21202              14762.0  "
      ]
     },
     "execution_count": 397,
     "metadata": {},
     "output_type": "execute_result"
    }
   ],
   "source": [
    "df_test.sample(10)"
   ]
  },
  {
   "cell_type": "code",
   "execution_count": 398,
   "metadata": {},
   "outputs": [],
   "source": [
    "#Dropping unwanted ID column\n",
    "df_train.drop(\"ID\",axis=1,inplace=True)\n",
    "df_test.drop(\"ID\",axis=1,inplace=True)"
   ]
  },
  {
   "cell_type": "code",
   "execution_count": 399,
   "metadata": {},
   "outputs": [
    {
     "data": {
      "text/plain": [
       "(50882, 13)"
      ]
     },
     "execution_count": 399,
     "metadata": {},
     "output_type": "execute_result"
    }
   ],
   "source": [
    "df_train.shape"
   ]
  },
  {
   "cell_type": "code",
   "execution_count": 400,
   "metadata": {},
   "outputs": [
    {
     "data": {
      "text/plain": [
       "(21805, 12)"
      ]
     },
     "execution_count": 400,
     "metadata": {},
     "output_type": "execute_result"
    }
   ],
   "source": [
    "df_test.shape"
   ]
  },
  {
   "cell_type": "code",
   "execution_count": 401,
   "metadata": {},
   "outputs": [
    {
     "name": "stdout",
     "output_type": "stream",
     "text": [
      "<class 'pandas.core.frame.DataFrame'>\n",
      "RangeIndex: 50882 entries, 0 to 50881\n",
      "Data columns (total 13 columns):\n",
      " #   Column                   Non-Null Count  Dtype  \n",
      "---  ------                   --------------  -----  \n",
      " 0   City_Code                50882 non-null  object \n",
      " 1   Region_Code              50882 non-null  int64  \n",
      " 2   Accomodation_Type        50882 non-null  object \n",
      " 3   Reco_Insurance_Type      50882 non-null  object \n",
      " 4   Upper_Age                50882 non-null  int64  \n",
      " 5   Lower_Age                50882 non-null  int64  \n",
      " 6   Is_Spouse                50882 non-null  object \n",
      " 7   Health Indicator         39191 non-null  object \n",
      " 8   Holding_Policy_Duration  30631 non-null  object \n",
      " 9   Holding_Policy_Type      30631 non-null  float64\n",
      " 10  Reco_Policy_Cat          50882 non-null  int64  \n",
      " 11  Reco_Policy_Premium      50882 non-null  float64\n",
      " 12  Response                 50882 non-null  int64  \n",
      "dtypes: float64(2), int64(5), object(6)\n",
      "memory usage: 5.0+ MB\n"
     ]
    }
   ],
   "source": [
    "df_train.info()"
   ]
  },
  {
   "cell_type": "code",
   "execution_count": 402,
   "metadata": {},
   "outputs": [
    {
     "name": "stdout",
     "output_type": "stream",
     "text": [
      "<class 'pandas.core.frame.DataFrame'>\n",
      "RangeIndex: 21805 entries, 0 to 21804\n",
      "Data columns (total 12 columns):\n",
      " #   Column                   Non-Null Count  Dtype  \n",
      "---  ------                   --------------  -----  \n",
      " 0   City_Code                21805 non-null  object \n",
      " 1   Region_Code              21805 non-null  int64  \n",
      " 2   Accomodation_Type        21805 non-null  object \n",
      " 3   Reco_Insurance_Type      21805 non-null  object \n",
      " 4   Upper_Age                21805 non-null  int64  \n",
      " 5   Lower_Age                21805 non-null  int64  \n",
      " 6   Is_Spouse                21805 non-null  object \n",
      " 7   Health Indicator         16778 non-null  object \n",
      " 8   Holding_Policy_Duration  13202 non-null  object \n",
      " 9   Holding_Policy_Type      13202 non-null  float64\n",
      " 10  Reco_Policy_Cat          21805 non-null  int64  \n",
      " 11  Reco_Policy_Premium      21805 non-null  float64\n",
      "dtypes: float64(2), int64(4), object(6)\n",
      "memory usage: 2.0+ MB\n"
     ]
    }
   ],
   "source": [
    "df_test.info()"
   ]
  },
  {
   "cell_type": "markdown",
   "metadata": {},
   "source": [
    "# Descriptive Statistics"
   ]
  },
  {
   "cell_type": "code",
   "execution_count": 403,
   "metadata": {},
   "outputs": [
    {
     "data": {
      "text/html": [
       "<div>\n",
       "<style scoped>\n",
       "    .dataframe tbody tr th:only-of-type {\n",
       "        vertical-align: middle;\n",
       "    }\n",
       "\n",
       "    .dataframe tbody tr th {\n",
       "        vertical-align: top;\n",
       "    }\n",
       "\n",
       "    .dataframe thead th {\n",
       "        text-align: right;\n",
       "    }\n",
       "</style>\n",
       "<table border=\"1\" class=\"dataframe\">\n",
       "  <thead>\n",
       "    <tr style=\"text-align: right;\">\n",
       "      <th></th>\n",
       "      <th>City_Code</th>\n",
       "      <th>Accomodation_Type</th>\n",
       "      <th>Reco_Insurance_Type</th>\n",
       "      <th>Is_Spouse</th>\n",
       "      <th>Health Indicator</th>\n",
       "      <th>Holding_Policy_Duration</th>\n",
       "    </tr>\n",
       "  </thead>\n",
       "  <tbody>\n",
       "    <tr>\n",
       "      <th>count</th>\n",
       "      <td>50882</td>\n",
       "      <td>50882</td>\n",
       "      <td>50882</td>\n",
       "      <td>50882</td>\n",
       "      <td>39191</td>\n",
       "      <td>30631</td>\n",
       "    </tr>\n",
       "    <tr>\n",
       "      <th>unique</th>\n",
       "      <td>36</td>\n",
       "      <td>2</td>\n",
       "      <td>2</td>\n",
       "      <td>2</td>\n",
       "      <td>9</td>\n",
       "      <td>15</td>\n",
       "    </tr>\n",
       "    <tr>\n",
       "      <th>top</th>\n",
       "      <td>C1</td>\n",
       "      <td>Owned</td>\n",
       "      <td>Individual</td>\n",
       "      <td>No</td>\n",
       "      <td>X1</td>\n",
       "      <td>1.0</td>\n",
       "    </tr>\n",
       "    <tr>\n",
       "      <th>freq</th>\n",
       "      <td>8973</td>\n",
       "      <td>27951</td>\n",
       "      <td>40536</td>\n",
       "      <td>42460</td>\n",
       "      <td>13010</td>\n",
       "      <td>4499</td>\n",
       "    </tr>\n",
       "  </tbody>\n",
       "</table>\n",
       "</div>"
      ],
      "text/plain": [
       "       City_Code Accomodation_Type Reco_Insurance_Type Is_Spouse  \\\n",
       "count      50882             50882               50882     50882   \n",
       "unique        36                 2                   2         2   \n",
       "top           C1             Owned          Individual        No   \n",
       "freq        8973             27951               40536     42460   \n",
       "\n",
       "       Health Indicator Holding_Policy_Duration  \n",
       "count             39191                   30631  \n",
       "unique                9                      15  \n",
       "top                  X1                     1.0  \n",
       "freq              13010                    4499  "
      ]
     },
     "execution_count": 403,
     "metadata": {},
     "output_type": "execute_result"
    }
   ],
   "source": [
    "df_train.describe(include=\"object\")"
   ]
  },
  {
   "cell_type": "code",
   "execution_count": 404,
   "metadata": {},
   "outputs": [
    {
     "data": {
      "text/html": [
       "<div>\n",
       "<style scoped>\n",
       "    .dataframe tbody tr th:only-of-type {\n",
       "        vertical-align: middle;\n",
       "    }\n",
       "\n",
       "    .dataframe tbody tr th {\n",
       "        vertical-align: top;\n",
       "    }\n",
       "\n",
       "    .dataframe thead th {\n",
       "        text-align: right;\n",
       "    }\n",
       "</style>\n",
       "<table border=\"1\" class=\"dataframe\">\n",
       "  <thead>\n",
       "    <tr style=\"text-align: right;\">\n",
       "      <th></th>\n",
       "      <th>Region_Code</th>\n",
       "      <th>Upper_Age</th>\n",
       "      <th>Lower_Age</th>\n",
       "      <th>Holding_Policy_Type</th>\n",
       "      <th>Reco_Policy_Cat</th>\n",
       "      <th>Reco_Policy_Premium</th>\n",
       "      <th>Response</th>\n",
       "    </tr>\n",
       "  </thead>\n",
       "  <tbody>\n",
       "    <tr>\n",
       "      <th>count</th>\n",
       "      <td>50882.000000</td>\n",
       "      <td>50882.000000</td>\n",
       "      <td>50882.000000</td>\n",
       "      <td>30631.000000</td>\n",
       "      <td>50882.000000</td>\n",
       "      <td>50882.000000</td>\n",
       "      <td>50882.000000</td>\n",
       "    </tr>\n",
       "    <tr>\n",
       "      <th>mean</th>\n",
       "      <td>1732.788707</td>\n",
       "      <td>44.856275</td>\n",
       "      <td>42.738866</td>\n",
       "      <td>2.439228</td>\n",
       "      <td>15.115188</td>\n",
       "      <td>14183.950069</td>\n",
       "      <td>0.239947</td>\n",
       "    </tr>\n",
       "    <tr>\n",
       "      <th>std</th>\n",
       "      <td>1424.081652</td>\n",
       "      <td>17.310271</td>\n",
       "      <td>17.319375</td>\n",
       "      <td>1.025923</td>\n",
       "      <td>6.340663</td>\n",
       "      <td>6590.074873</td>\n",
       "      <td>0.427055</td>\n",
       "    </tr>\n",
       "    <tr>\n",
       "      <th>min</th>\n",
       "      <td>1.000000</td>\n",
       "      <td>18.000000</td>\n",
       "      <td>16.000000</td>\n",
       "      <td>1.000000</td>\n",
       "      <td>1.000000</td>\n",
       "      <td>2280.000000</td>\n",
       "      <td>0.000000</td>\n",
       "    </tr>\n",
       "    <tr>\n",
       "      <th>25%</th>\n",
       "      <td>523.000000</td>\n",
       "      <td>28.000000</td>\n",
       "      <td>27.000000</td>\n",
       "      <td>1.000000</td>\n",
       "      <td>12.000000</td>\n",
       "      <td>9248.000000</td>\n",
       "      <td>0.000000</td>\n",
       "    </tr>\n",
       "    <tr>\n",
       "      <th>50%</th>\n",
       "      <td>1391.000000</td>\n",
       "      <td>44.000000</td>\n",
       "      <td>40.000000</td>\n",
       "      <td>3.000000</td>\n",
       "      <td>17.000000</td>\n",
       "      <td>13178.000000</td>\n",
       "      <td>0.000000</td>\n",
       "    </tr>\n",
       "    <tr>\n",
       "      <th>75%</th>\n",
       "      <td>2667.000000</td>\n",
       "      <td>59.000000</td>\n",
       "      <td>57.000000</td>\n",
       "      <td>3.000000</td>\n",
       "      <td>20.000000</td>\n",
       "      <td>18096.000000</td>\n",
       "      <td>0.000000</td>\n",
       "    </tr>\n",
       "    <tr>\n",
       "      <th>max</th>\n",
       "      <td>6194.000000</td>\n",
       "      <td>75.000000</td>\n",
       "      <td>75.000000</td>\n",
       "      <td>4.000000</td>\n",
       "      <td>22.000000</td>\n",
       "      <td>43350.400000</td>\n",
       "      <td>1.000000</td>\n",
       "    </tr>\n",
       "  </tbody>\n",
       "</table>\n",
       "</div>"
      ],
      "text/plain": [
       "        Region_Code     Upper_Age     Lower_Age  Holding_Policy_Type  \\\n",
       "count  50882.000000  50882.000000  50882.000000         30631.000000   \n",
       "mean    1732.788707     44.856275     42.738866             2.439228   \n",
       "std     1424.081652     17.310271     17.319375             1.025923   \n",
       "min        1.000000     18.000000     16.000000             1.000000   \n",
       "25%      523.000000     28.000000     27.000000             1.000000   \n",
       "50%     1391.000000     44.000000     40.000000             3.000000   \n",
       "75%     2667.000000     59.000000     57.000000             3.000000   \n",
       "max     6194.000000     75.000000     75.000000             4.000000   \n",
       "\n",
       "       Reco_Policy_Cat  Reco_Policy_Premium      Response  \n",
       "count     50882.000000         50882.000000  50882.000000  \n",
       "mean         15.115188         14183.950069      0.239947  \n",
       "std           6.340663          6590.074873      0.427055  \n",
       "min           1.000000          2280.000000      0.000000  \n",
       "25%          12.000000          9248.000000      0.000000  \n",
       "50%          17.000000         13178.000000      0.000000  \n",
       "75%          20.000000         18096.000000      0.000000  \n",
       "max          22.000000         43350.400000      1.000000  "
      ]
     },
     "execution_count": 404,
     "metadata": {},
     "output_type": "execute_result"
    }
   ],
   "source": [
    "df_train.describe()"
   ]
  },
  {
   "cell_type": "markdown",
   "metadata": {},
   "source": [
    "# Checking for Duplicates"
   ]
  },
  {
   "cell_type": "code",
   "execution_count": 405,
   "metadata": {},
   "outputs": [],
   "source": [
    "df_train.drop_duplicates(keep='first',inplace=True)"
   ]
  },
  {
   "cell_type": "code",
   "execution_count": 406,
   "metadata": {},
   "outputs": [],
   "source": [
    "df_test.drop_duplicates(keep='first',inplace=True)"
   ]
  },
  {
   "cell_type": "markdown",
   "metadata": {},
   "source": [
    "# Checking for missing values"
   ]
  },
  {
   "cell_type": "code",
   "execution_count": 407,
   "metadata": {},
   "outputs": [
    {
     "data": {
      "text/plain": [
       "City_Code                      0\n",
       "Region_Code                    0\n",
       "Accomodation_Type              0\n",
       "Reco_Insurance_Type            0\n",
       "Upper_Age                      0\n",
       "Lower_Age                      0\n",
       "Is_Spouse                      0\n",
       "Health Indicator           11691\n",
       "Holding_Policy_Duration    20251\n",
       "Holding_Policy_Type        20251\n",
       "Reco_Policy_Cat                0\n",
       "Reco_Policy_Premium            0\n",
       "Response                       0\n",
       "dtype: int64"
      ]
     },
     "execution_count": 407,
     "metadata": {},
     "output_type": "execute_result"
    }
   ],
   "source": [
    "df_train.isna().sum()"
   ]
  },
  {
   "cell_type": "code",
   "execution_count": 408,
   "metadata": {},
   "outputs": [
    {
     "data": {
      "text/plain": [
       "City_Code                     0\n",
       "Region_Code                   0\n",
       "Accomodation_Type             0\n",
       "Reco_Insurance_Type           0\n",
       "Upper_Age                     0\n",
       "Lower_Age                     0\n",
       "Is_Spouse                     0\n",
       "Health Indicator           5027\n",
       "Holding_Policy_Duration    8602\n",
       "Holding_Policy_Type        8602\n",
       "Reco_Policy_Cat               0\n",
       "Reco_Policy_Premium           0\n",
       "dtype: int64"
      ]
     },
     "execution_count": 408,
     "metadata": {},
     "output_type": "execute_result"
    }
   ],
   "source": [
    "df_test.isna().sum()"
   ]
  },
  {
   "cell_type": "code",
   "execution_count": 409,
   "metadata": {},
   "outputs": [
    {
     "data": {
      "text/plain": [
       "Health Indicator            9\n",
       "Holding_Policy_Duration    15\n",
       "Holding_Policy_Type         4\n",
       "dtype: int64"
      ]
     },
     "execution_count": 409,
     "metadata": {},
     "output_type": "execute_result"
    }
   ],
   "source": [
    "#checking number of unique values before deciding strategy to impute\n",
    "df_train.loc[:,[\"Health Indicator\",\"Holding_Policy_Duration\",\"Holding_Policy_Type\"]].nunique()"
   ]
  },
  {
   "cell_type": "code",
   "execution_count": 410,
   "metadata": {},
   "outputs": [
    {
     "data": {
      "text/plain": [
       "Health Indicator            9\n",
       "Holding_Policy_Duration    15\n",
       "Holding_Policy_Type         4\n",
       "dtype: int64"
      ]
     },
     "execution_count": 410,
     "metadata": {},
     "output_type": "execute_result"
    }
   ],
   "source": [
    "df_test.loc[:,[\"Health Indicator\",\"Holding_Policy_Duration\",\"Holding_Policy_Type\"]].nunique()"
   ]
  },
  {
   "cell_type": "markdown",
   "metadata": {},
   "source": [
    "### imputing missing values "
   ]
  },
  {
   "cell_type": "code",
   "execution_count": 411,
   "metadata": {},
   "outputs": [],
   "source": [
    "#using SimpleImputer to impute missing values in categorical columns with strategy as most frequent\n",
    "\n",
    "impute=SimpleImputer(missing_values=np.nan,strategy='most_frequent')\n",
    "df_train.loc[:,[\"Health Indicator\",\"Holding_Policy_Type\"]]=impute.fit_transform(df_train.loc[:,[\"Health Indicator\",\"Holding_Policy_Type\"]]).astype('str')\n",
    "df_test.loc[:,[\"Health Indicator\",\"Holding_Policy_Type\"]]=impute.fit_transform(df_test.loc[:,[\"Health Indicator\",\"Holding_Policy_Type\"]]).astype('str')"
   ]
  },
  {
   "cell_type": "code",
   "execution_count": 412,
   "metadata": {},
   "outputs": [],
   "source": [
    "#using SimpleImputer to impute missing values in numerical column with strategy as median\n",
    "df_train.loc[:,[\"Holding_Policy_Duration\"]]=df_train.loc[:,[\"Holding_Policy_Duration\"]].replace(\"14+\",\"14\").astype(\"float\")\n",
    "df_test.loc[:,[\"Holding_Policy_Duration\"]]=df_test.loc[:,[\"Holding_Policy_Duration\"]].replace(\"14+\",\"14\").astype(\"float\")\n",
    "impute=SimpleImputer(missing_values=np.nan,strategy='median')\n",
    "df_train.loc[:,[\"Holding_Policy_Duration\"]]=impute.fit_transform(df_train.loc[:,[\"Holding_Policy_Duration\"]])\n",
    "df_test.loc[:,[\"Holding_Policy_Duration\"]]=impute.fit_transform(df_test.loc[:,[\"Holding_Policy_Duration\"]])"
   ]
  },
  {
   "cell_type": "code",
   "execution_count": 413,
   "metadata": {},
   "outputs": [
    {
     "data": {
      "text/plain": [
       "City_Code                  0\n",
       "Region_Code                0\n",
       "Accomodation_Type          0\n",
       "Reco_Insurance_Type        0\n",
       "Upper_Age                  0\n",
       "Lower_Age                  0\n",
       "Is_Spouse                  0\n",
       "Health Indicator           0\n",
       "Holding_Policy_Duration    0\n",
       "Holding_Policy_Type        0\n",
       "Reco_Policy_Cat            0\n",
       "Reco_Policy_Premium        0\n",
       "Response                   0\n",
       "dtype: int64"
      ]
     },
     "execution_count": 413,
     "metadata": {},
     "output_type": "execute_result"
    }
   ],
   "source": [
    "df_train.isna().sum()"
   ]
  },
  {
   "cell_type": "code",
   "execution_count": 414,
   "metadata": {},
   "outputs": [
    {
     "data": {
      "text/plain": [
       "City_Code                  0\n",
       "Region_Code                0\n",
       "Accomodation_Type          0\n",
       "Reco_Insurance_Type        0\n",
       "Upper_Age                  0\n",
       "Lower_Age                  0\n",
       "Is_Spouse                  0\n",
       "Health Indicator           0\n",
       "Holding_Policy_Duration    0\n",
       "Holding_Policy_Type        0\n",
       "Reco_Policy_Cat            0\n",
       "Reco_Policy_Premium        0\n",
       "dtype: int64"
      ]
     },
     "execution_count": 414,
     "metadata": {},
     "output_type": "execute_result"
    }
   ],
   "source": [
    "df_test.isna().sum()"
   ]
  },
  {
   "cell_type": "code",
   "execution_count": 415,
   "metadata": {},
   "outputs": [
    {
     "data": {
      "text/plain": [
       "0    0.760053\n",
       "1    0.239947\n",
       "Name: Response, dtype: float64"
      ]
     },
     "execution_count": 415,
     "metadata": {},
     "output_type": "execute_result"
    }
   ],
   "source": [
    "df_train[\"Response\"].value_counts(normalize=True)"
   ]
  },
  {
   "cell_type": "code",
   "execution_count": 416,
   "metadata": {},
   "outputs": [],
   "source": [
    "df_train = df_train.rename(columns={'Health Indicator': 'Health_Indicator'})\n",
    "df_test = df_test.rename(columns={'Health Indicator': 'Health_Indicator'})\n",
    "df_train[\"Region_Code\"]=df_train[\"Region_Code\"].astype(\"object\")\n",
    "df_test[\"Region_Code\"]=df_test[\"Region_Code\"].astype(\"object\")"
   ]
  },
  {
   "cell_type": "markdown",
   "metadata": {},
   "source": [
    "- this is an imbalanced dataset"
   ]
  },
  {
   "cell_type": "markdown",
   "metadata": {},
   "source": [
    "## Data visualizations\n",
    " ### Target Variable"
   ]
  },
  {
   "cell_type": "code",
   "execution_count": 93,
   "metadata": {},
   "outputs": [
    {
     "data": {
      "text/plain": [
       "<matplotlib.axes._subplots.AxesSubplot at 0x22efeb29190>"
      ]
     },
     "execution_count": 93,
     "metadata": {},
     "output_type": "execute_result"
    },
    {
     "data": {
      "image/png": "[encoded data removed]",
      "text/plain": [
       "<Figure size 432x288 with 1 Axes>"
      ]
     },
     "metadata": {},
     "output_type": "display_data"
    }
   ],
   "source": [
    "\n",
    "sns.set_theme(style=\"darkgrid\")\n",
    "sns.countplot(df_train['Response'],data=df_train)"
   ]
  },
  {
   "cell_type": "code",
   "execution_count": 134,
   "metadata": {},
   "outputs": [
    {
     "data": {
      "image/png": "[encoded data removed]",
      "text/plain": [
       "<Figure size 432x432 with 1 Axes>"
      ]
     },
     "metadata": {},
     "output_type": "display_data"
    }
   ],
   "source": [
    "plt.figure(figsize=(6,6))\n",
    "sns.set_theme(style=\"darkgrid\")\n",
    "sns.countplot(df_train['City_Code'],data=df_train)\n",
    "plt.xticks(rotation=90)\n",
    "plt.tight_layout()"
   ]
  },
  {
   "cell_type": "code",
   "execution_count": 136,
   "metadata": {},
   "outputs": [
    {
     "data": {
      "image/png": "[encoded data removed]",
      "text/plain": [
       "<Figure size 432x432 with 1 Axes>"
      ]
     },
     "metadata": {},
     "output_type": "display_data"
    }
   ],
   "source": [
    "plt.figure(figsize=(6,6))\n",
    "sns.set_theme(style=\"darkgrid\")\n",
    "sns.countplot(df_train['Accomodation_Type'],data=df_train)\n",
    "plt.xticks(rotation=90)\n",
    "plt.tight_layout()"
   ]
  },
  {
   "cell_type": "code",
   "execution_count": 137,
   "metadata": {},
   "outputs": [
    {
     "data": {
      "image/png": "[encoded data removed]",
      "text/plain": [
       "<Figure size 432x432 with 1 Axes>"
      ]
     },
     "metadata": {},
     "output_type": "display_data"
    }
   ],
   "source": [
    "plt.figure(figsize=(6,6))\n",
    "sns.set_theme(style=\"darkgrid\")\n",
    "sns.countplot(df_train['Reco_Insurance_Type'],data=df_train)\n",
    "plt.xticks(rotation=90)\n",
    "plt.tight_layout()"
   ]
  },
  {
   "cell_type": "code",
   "execution_count": 138,
   "metadata": {},
   "outputs": [
    {
     "data": {
      "image/png": "[encoded data removed]",
      "text/plain": [
       "<Figure size 432x432 with 1 Axes>"
      ]
     },
     "metadata": {},
     "output_type": "display_data"
    }
   ],
   "source": [
    "\n",
    "plt.figure(figsize=(6,6))\n",
    "sns.set_theme(style=\"darkgrid\")\n",
    "sns.countplot(df_train['Is_Spouse'],data=df_train)\n",
    "plt.xticks(rotation=90)\n",
    "plt.tight_layout()"
   ]
  },
  {
   "cell_type": "code",
   "execution_count": 160,
   "metadata": {},
   "outputs": [
    {
     "data": {
      "image/png": "[encoded data removed]",
      "text/plain": [
       "<Figure size 432x432 with 1 Axes>"
      ]
     },
     "metadata": {},
     "output_type": "display_data"
    }
   ],
   "source": [
    "plt.figure(figsize=(6,6))\n",
    "sns.set_theme(style=\"darkgrid\")\n",
    "sns.countplot(df_train['Health_Indicator'],data=df_train)\n",
    "plt.xticks(rotation=90)\n",
    "plt.tight_layout()"
   ]
  },
  {
   "cell_type": "code",
   "execution_count": 140,
   "metadata": {},
   "outputs": [
    {
     "data": {
      "image/png": "[encoded data removed]",
      "text/plain": [
       "<Figure size 432x432 with 1 Axes>"
      ]
     },
     "metadata": {},
     "output_type": "display_data"
    }
   ],
   "source": [
    "\n",
    "plt.figure(figsize=(6,6))\n",
    "sns.set_theme(style=\"darkgrid\")\n",
    "sns.countplot(df_train['Holding_Policy_Type'],data=df_train)\n",
    "plt.xticks(rotation=90)\n",
    "plt.tight_layout()"
   ]
  },
  {
   "cell_type": "code",
   "execution_count": 142,
   "metadata": {},
   "outputs": [
    {
     "data": {
      "text/plain": [
       "['Region_Code',\n",
       " 'Upper_Age',\n",
       " 'Lower_Age',\n",
       " 'Holding_Policy_Duration',\n",
       " 'Reco_Policy_Cat',\n",
       " 'Reco_Policy_Premium',\n",
       " 'Response']"
      ]
     },
     "execution_count": 142,
     "metadata": {},
     "output_type": "execute_result"
    }
   ],
   "source": [
    "df_train.select_dtypes(include=np.number).columns.tolist()"
   ]
  },
  {
   "cell_type": "code",
   "execution_count": 143,
   "metadata": {},
   "outputs": [
    {
     "data": {
      "text/plain": [
       "<seaborn.axisgrid.FacetGrid at 0x22efd454640>"
      ]
     },
     "execution_count": 143,
     "metadata": {},
     "output_type": "execute_result"
    },
    {
     "data": {
      "image/png": "[encoded data removed]",
      "text/plain": [
       "<Figure size 360x360 with 1 Axes>"
      ]
     },
     "metadata": {},
     "output_type": "display_data"
    }
   ],
   "source": [
    "sns.displot(df_train[\"Region_Code\"])"
   ]
  },
  {
   "cell_type": "markdown",
   "metadata": {},
   "source": [
    "## Data Pre-Processing"
   ]
  },
  {
   "cell_type": "markdown",
   "metadata": {},
   "source": [
    "### OneHotEncoding "
   ]
  },
  {
   "cell_type": "code",
   "execution_count": 417,
   "metadata": {},
   "outputs": [],
   "source": [
    "def add_noise(series,noise_level):\n",
    "    return series *(1+noise_level*np.random.randn(len(series)))\n",
    "\n",
    "def target_encode(trn_series=None,tst_series=None,target=None,min_samples_leaf=1,smoothing=1,noise_level=0):\n",
    "    assert len(trn_series) == len(target)\n",
    "    assert trn_series.name == tst_series.name\n",
    "    temp = pd.concat([trn_series, target], axis=1)\n",
    "    # Compute target mean\n",
    "    averages = temp.groupby(by=trn_series.name)[target.name].agg([\"mean\", \"count\"])\n",
    "    # Compute smoothing\n",
    "    smoothing = 1 / (1 + np.exp(-(averages[\"count\"] - min_samples_leaf) / smoothing))\n",
    "    # Apply average function to all target data\n",
    "    prior = target.mean()\n",
    "    # The bigger the count the less full_avg is taken into account\n",
    "    averages[target.name] = prior * (1 - smoothing) + averages[\"mean\"] * smoothing\n",
    "    averages.drop([\"mean\", \"count\"], axis=1, inplace=True)\n",
    "    # Apply averages to trn and tst series\n",
    "    ft_trn_series = pd.merge(\n",
    "    trn_series.to_frame(trn_series.name),\n",
    "    averages.reset_index().rename(columns={'index': target.name, target.name: 'average'}),on=trn_series.name,how='left')['average'].rename(trn_series.name + '_mean').fillna(prior)\n",
    "    # pd.merge does not keep the index so restore it\n",
    "    ft_trn_series.index = trn_series.index\n",
    "    ft_tst_series = pd.merge(tst_series.to_frame(tst_series.name),averages.reset_index().rename(columns={'index': target.name, target.name: 'average'}),on=tst_series.name,how='left')['average'].rename(trn_series.name + '_mean').fillna(prior)\n",
    "    # pd.merge does not keep the index so restore it\n",
    "    ft_tst_series.index = tst_series.index\n",
    "    return add_noise(ft_trn_series, noise_level), add_noise(ft_tst_series, noise_level)\n",
    "\n",
    "tr_g, te_g = target_encode(df_train[\"Region_Code\"],df_test[\"Region_Code\"],target= df_train[\"Response\"],min_samples_leaf=200,smoothing=20,noise_level=0.02)\n",
    "df_train['Region_code_me']=tr_g\n",
    "df_test['Region_code_me']=te_g"
   ]
  },
  {
   "cell_type": "code",
   "execution_count": 423,
   "metadata": {},
   "outputs": [],
   "source": [
    "df_train.drop(\"Region_Code\",axis=1,inplace=True)\n",
    "df_test.drop(\"Region_Code\",axis=1,inplace=True)"
   ]
  },
  {
   "cell_type": "code",
   "execution_count": 427,
   "metadata": {},
   "outputs": [],
   "source": [
    "# Deleting the one of the encoded columns for categorical variable with only two categories and keeping all the encoded columns of \n",
    "# of categorical variable with more than 2 variable and equal to 4 categorical variable\n",
    "# for feature with levels greater than 9 to avoid high dimensionality problem using target encoding concept manually by implementing \n",
    "# smoothening of mean.\n",
    "# in Target encoding for each distinct element feature you compute the average of the corresponding values in target. \n",
    "# Then you replace each with the according mean.this technique has a problem of overfitting.thus using smoothed mean can combatr this\n",
    "# problem to some extint  \n",
    "\n",
    "#using get _dummies\n",
    "for cols in df_train.select_dtypes(include=\"object\").columns:\n",
    "        if df_train[cols].nunique()==2:\n",
    "            df_train=pd.get_dummies(df_train,columns=[cols],drop_first=True)\n",
    "        elif df_train[cols].nunique()>2 :\n",
    "            df_train=pd.get_dummies(df_train,columns=[cols])"
   ]
  },
  {
   "cell_type": "code",
   "execution_count": 429,
   "metadata": {},
   "outputs": [],
   "source": [
    "for cols in df_test.select_dtypes(include=\"object\").columns:\n",
    "        if df_test[cols].nunique()==2:\n",
    "            df_test=pd.get_dummies(df_test,columns=[cols],drop_first=True)\n",
    "        elif df_test[cols].nunique()>2 :\n",
    "            df_test=pd.get_dummies(df_test,columns=[cols])"
   ]
  },
  {
   "cell_type": "code",
   "execution_count": 483,
   "metadata": {},
   "outputs": [],
   "source": [
    "X=df_train.drop(\"Response\",axis=1)\n",
    "y=df_train[\"Response\"]\n",
    "from imblearn.pipeline import pipeline,make_pipeline\n",
    "from imblearn.over_sampling import SMOTE\n",
    "X_train,X_test,y_train,y_test=train_test_split(X,y,test_size=.2,random_state=1)\n",
    "model=make_pipeline( SMOTE(),DecisionTreeClassifier(random_state=42))\n",
    "X_train_res,y_train_res=sm.fit_resample(X_train,y_train)"
   ]
  },
  {
   "cell_type": "code",
   "execution_count": 484,
   "metadata": {},
   "outputs": [],
   "source": [
    "from sklearn.tree import DecisionTreeClassifier\n",
    "#from sklearn.model_selection import train_test_split\n",
    "#X_train,X_test,y_train,y_test=train_test_split(X,y)\n",
    "dtree=DecisionTreeClassifier(criterion='gini')\n"
   ]
  },
  {
   "cell_type": "code",
   "execution_count": 485,
   "metadata": {},
   "outputs": [
    {
     "data": {
      "text/plain": [
       "DecisionTreeClassifier()"
      ]
     },
     "execution_count": 485,
     "metadata": {},
     "output_type": "execute_result"
    }
   ],
   "source": [
    "dtree.fit(X_train_res,y_train_res)"
   ]
  },
  {
   "cell_type": "code",
   "execution_count": 486,
   "metadata": {},
   "outputs": [
    {
     "name": "stdout",
     "output_type": "stream",
     "text": [
      "===============Classification Report============\n",
      "              precision    recall  f1-score   support\n",
      "\n",
      "           0       0.77      0.76      0.76      7682\n",
      "           1       0.29      0.31      0.30      2495\n",
      "\n",
      "    accuracy                           0.65     10177\n",
      "   macro avg       0.53      0.53      0.53     10177\n",
      "weighted avg       0.66      0.65      0.65     10177\n",
      "\n"
     ]
    },
    {
     "data": {
      "image/png": "[encoded data removed]",
      "text/plain": [
       "<Figure size 432x288 with 2 Axes>"
      ]
     },
     "metadata": {},
     "output_type": "display_data"
    }
   ],
   "source": [
    "from sklearn.metrics import confusion_matrix,classification_report\n",
    "y_pred=dtree.predict(X_test)\n",
    "sns.heatmap(confusion_matrix(y_test,y_pred),annot=True,fmt='.0f')\n",
    "print(\"===============Classification Report============\")\n",
    "print(classification_report(y_test,y_pred))"
   ]
  },
  {
   "cell_type": "code",
   "execution_count": 492,
   "metadata": {},
   "outputs": [],
   "source": [
    "from sklearn.model_selection import GridSearchCV\n",
    "param_grid={\n",
    "            'decisiontreeclassifier__criterion':[\"gini\",'entropy'],\n",
    "            'decisiontreeclassifier__max_depth':[3,4,5,6,7,8,9,10],\n",
    "            \"decisiontreeclassifier__min_samples_split\":[5,10,20],\n",
    "            'decisiontreeclassifier__min_samples_leaf':[1,2,3,4,5,6],\n",
    "            'decisiontreeclassifier__min_impurity_decrease':[0.001,0.01,0.1,.005]\n",
    "}\n",
    "dtree_grid=GridSearchCV(model,param_grid=param_grid,cv=5,scoring=\"roc_auc\")"
   ]
  },
  {
   "cell_type": "code",
   "execution_count": 493,
   "metadata": {},
   "outputs": [
    {
     "data": {
      "text/plain": [
       "GridSearchCV(cv=5,\n",
       "             estimator=Pipeline(steps=[('smote', SMOTE()),\n",
       "                                       ('decisiontreeclassifier',\n",
       "                                        DecisionTreeClassifier(random_state=42))]),\n",
       "             param_grid={'decisiontreeclassifier__criterion': ['gini',\n",
       "                                                               'entropy'],\n",
       "                         'decisiontreeclassifier__max_depth': [3, 4, 5, 6, 7, 8,\n",
       "                                                               9, 10],\n",
       "                         'decisiontreeclassifier__min_impurity_decrease': [0.001,\n",
       "                                                                           0.01,\n",
       "                                                                           0.1,\n",
       "                                                                           0.005],\n",
       "                         'decisiontreeclassifier__min_samples_leaf': [1, 2, 3,\n",
       "                                                                      4, 5, 6],\n",
       "                         'decisiontreeclassifier__min_samples_split': [5, 10,\n",
       "                                                                       20]},\n",
       "             scoring='roc_auc')"
      ]
     },
     "execution_count": 493,
     "metadata": {},
     "output_type": "execute_result"
    }
   ],
   "source": [
    "dtree_grid.fit(X,y)"
   ]
  },
  {
   "cell_type": "code",
   "execution_count": 494,
   "metadata": {},
   "outputs": [],
   "source": [
    "y_pred=dtree_grid.best_estimator_.predict(X_test)"
   ]
  },
  {
   "cell_type": "code",
   "execution_count": 495,
   "metadata": {},
   "outputs": [
    {
     "name": "stdout",
     "output_type": "stream",
     "text": [
      "======= Classification Report GRIDSEARCH DecisionTree Classifier===============\n",
      "              precision    recall  f1-score   support\n",
      "\n",
      "           0       0.76      0.90      0.82      7682\n",
      "           1       0.28      0.12      0.17      2495\n",
      "\n",
      "    accuracy                           0.71     10177\n",
      "   macro avg       0.52      0.51      0.50     10177\n",
      "weighted avg       0.64      0.71      0.66     10177\n",
      "\n"
     ]
    },
    {
     "data": {
      "image/png": "[encoded data removed]",
      "text/plain": [
       "<Figure size 432x288 with 2 Axes>"
      ]
     },
     "metadata": {},
     "output_type": "display_data"
    }
   ],
   "source": [
    "sns.heatmap(confusion_matrix(y_test,y_pred),annot=True,fmt='.0f')\n",
    "print(\"======= Classification Report GRIDSEARCH DecisionTree Classifier===============\")\n",
    "print(classification_report(y_test,y_pred))"
   ]
  },
  {
   "cell_type": "code",
   "execution_count": 496,
   "metadata": {},
   "outputs": [
    {
     "data": {
      "text/html": [
       "<div>\n",
       "<style scoped>\n",
       "    .dataframe tbody tr th:only-of-type {\n",
       "        vertical-align: middle;\n",
       "    }\n",
       "\n",
       "    .dataframe tbody tr th {\n",
       "        vertical-align: top;\n",
       "    }\n",
       "\n",
       "    .dataframe thead th {\n",
       "        text-align: right;\n",
       "    }\n",
       "</style>\n",
       "<table border=\"1\" class=\"dataframe\">\n",
       "  <thead>\n",
       "    <tr style=\"text-align: right;\">\n",
       "      <th></th>\n",
       "      <th>Upper_Age</th>\n",
       "      <th>Lower_Age</th>\n",
       "      <th>Holding_Policy_Duration</th>\n",
       "      <th>Reco_Policy_Cat</th>\n",
       "      <th>Reco_Policy_Premium</th>\n",
       "      <th>Response</th>\n",
       "      <th>Region_code_me</th>\n",
       "      <th>City_Code_C1</th>\n",
       "      <th>City_Code_C10</th>\n",
       "      <th>City_Code_C11</th>\n",
       "      <th>...</th>\n",
       "      <th>Health_Indicator_X4</th>\n",
       "      <th>Health_Indicator_X5</th>\n",
       "      <th>Health_Indicator_X6</th>\n",
       "      <th>Health_Indicator_X7</th>\n",
       "      <th>Health_Indicator_X8</th>\n",
       "      <th>Health_Indicator_X9</th>\n",
       "      <th>Holding_Policy_Type_1.0</th>\n",
       "      <th>Holding_Policy_Type_2.0</th>\n",
       "      <th>Holding_Policy_Type_3.0</th>\n",
       "      <th>Holding_Policy_Type_4.0</th>\n",
       "    </tr>\n",
       "  </thead>\n",
       "  <tbody>\n",
       "    <tr>\n",
       "      <th>0</th>\n",
       "      <td>36</td>\n",
       "      <td>36</td>\n",
       "      <td>14.0</td>\n",
       "      <td>22</td>\n",
       "      <td>11628.0</td>\n",
       "      <td>0</td>\n",
       "      <td>0.234394</td>\n",
       "      <td>0</td>\n",
       "      <td>0</td>\n",
       "      <td>0</td>\n",
       "      <td>...</td>\n",
       "      <td>0</td>\n",
       "      <td>0</td>\n",
       "      <td>0</td>\n",
       "      <td>0</td>\n",
       "      <td>0</td>\n",
       "      <td>0</td>\n",
       "      <td>0</td>\n",
       "      <td>0</td>\n",
       "      <td>1</td>\n",
       "      <td>0</td>\n",
       "    </tr>\n",
       "    <tr>\n",
       "      <th>1</th>\n",
       "      <td>75</td>\n",
       "      <td>22</td>\n",
       "      <td>5.0</td>\n",
       "      <td>22</td>\n",
       "      <td>30510.0</td>\n",
       "      <td>0</td>\n",
       "      <td>0.240109</td>\n",
       "      <td>0</td>\n",
       "      <td>0</td>\n",
       "      <td>0</td>\n",
       "      <td>...</td>\n",
       "      <td>0</td>\n",
       "      <td>0</td>\n",
       "      <td>0</td>\n",
       "      <td>0</td>\n",
       "      <td>0</td>\n",
       "      <td>0</td>\n",
       "      <td>0</td>\n",
       "      <td>0</td>\n",
       "      <td>1</td>\n",
       "      <td>0</td>\n",
       "    </tr>\n",
       "    <tr>\n",
       "      <th>2</th>\n",
       "      <td>32</td>\n",
       "      <td>32</td>\n",
       "      <td>1.0</td>\n",
       "      <td>19</td>\n",
       "      <td>7450.0</td>\n",
       "      <td>1</td>\n",
       "      <td>0.244068</td>\n",
       "      <td>0</td>\n",
       "      <td>0</td>\n",
       "      <td>0</td>\n",
       "      <td>...</td>\n",
       "      <td>0</td>\n",
       "      <td>0</td>\n",
       "      <td>0</td>\n",
       "      <td>0</td>\n",
       "      <td>0</td>\n",
       "      <td>0</td>\n",
       "      <td>1</td>\n",
       "      <td>0</td>\n",
       "      <td>0</td>\n",
       "      <td>0</td>\n",
       "    </tr>\n",
       "    <tr>\n",
       "      <th>3</th>\n",
       "      <td>52</td>\n",
       "      <td>48</td>\n",
       "      <td>14.0</td>\n",
       "      <td>19</td>\n",
       "      <td>17780.0</td>\n",
       "      <td>0</td>\n",
       "      <td>0.237470</td>\n",
       "      <td>0</td>\n",
       "      <td>0</td>\n",
       "      <td>0</td>\n",
       "      <td>...</td>\n",
       "      <td>0</td>\n",
       "      <td>0</td>\n",
       "      <td>0</td>\n",
       "      <td>0</td>\n",
       "      <td>0</td>\n",
       "      <td>0</td>\n",
       "      <td>0</td>\n",
       "      <td>0</td>\n",
       "      <td>1</td>\n",
       "      <td>0</td>\n",
       "    </tr>\n",
       "    <tr>\n",
       "      <th>4</th>\n",
       "      <td>44</td>\n",
       "      <td>44</td>\n",
       "      <td>3.0</td>\n",
       "      <td>16</td>\n",
       "      <td>10404.0</td>\n",
       "      <td>0</td>\n",
       "      <td>0.238273</td>\n",
       "      <td>0</td>\n",
       "      <td>0</td>\n",
       "      <td>0</td>\n",
       "      <td>...</td>\n",
       "      <td>0</td>\n",
       "      <td>0</td>\n",
       "      <td>0</td>\n",
       "      <td>0</td>\n",
       "      <td>0</td>\n",
       "      <td>0</td>\n",
       "      <td>1</td>\n",
       "      <td>0</td>\n",
       "      <td>0</td>\n",
       "      <td>0</td>\n",
       "    </tr>\n",
       "    <tr>\n",
       "      <th>...</th>\n",
       "      <td>...</td>\n",
       "      <td>...</td>\n",
       "      <td>...</td>\n",
       "      <td>...</td>\n",
       "      <td>...</td>\n",
       "      <td>...</td>\n",
       "      <td>...</td>\n",
       "      <td>...</td>\n",
       "      <td>...</td>\n",
       "      <td>...</td>\n",
       "      <td>...</td>\n",
       "      <td>...</td>\n",
       "      <td>...</td>\n",
       "      <td>...</td>\n",
       "      <td>...</td>\n",
       "      <td>...</td>\n",
       "      <td>...</td>\n",
       "      <td>...</td>\n",
       "      <td>...</td>\n",
       "      <td>...</td>\n",
       "      <td>...</td>\n",
       "    </tr>\n",
       "    <tr>\n",
       "      <th>50877</th>\n",
       "      <td>22</td>\n",
       "      <td>22</td>\n",
       "      <td>5.0</td>\n",
       "      <td>18</td>\n",
       "      <td>7704.0</td>\n",
       "      <td>0</td>\n",
       "      <td>0.243621</td>\n",
       "      <td>0</td>\n",
       "      <td>0</td>\n",
       "      <td>0</td>\n",
       "      <td>...</td>\n",
       "      <td>0</td>\n",
       "      <td>0</td>\n",
       "      <td>0</td>\n",
       "      <td>0</td>\n",
       "      <td>0</td>\n",
       "      <td>0</td>\n",
       "      <td>0</td>\n",
       "      <td>0</td>\n",
       "      <td>1</td>\n",
       "      <td>0</td>\n",
       "    </tr>\n",
       "    <tr>\n",
       "      <th>50878</th>\n",
       "      <td>27</td>\n",
       "      <td>27</td>\n",
       "      <td>7.0</td>\n",
       "      <td>4</td>\n",
       "      <td>5408.0</td>\n",
       "      <td>0</td>\n",
       "      <td>0.233741</td>\n",
       "      <td>0</td>\n",
       "      <td>0</td>\n",
       "      <td>0</td>\n",
       "      <td>...</td>\n",
       "      <td>0</td>\n",
       "      <td>0</td>\n",
       "      <td>0</td>\n",
       "      <td>0</td>\n",
       "      <td>0</td>\n",
       "      <td>0</td>\n",
       "      <td>0</td>\n",
       "      <td>0</td>\n",
       "      <td>1</td>\n",
       "      <td>0</td>\n",
       "    </tr>\n",
       "    <tr>\n",
       "      <th>50879</th>\n",
       "      <td>63</td>\n",
       "      <td>63</td>\n",
       "      <td>14.0</td>\n",
       "      <td>12</td>\n",
       "      <td>11374.0</td>\n",
       "      <td>0</td>\n",
       "      <td>0.237155</td>\n",
       "      <td>1</td>\n",
       "      <td>0</td>\n",
       "      <td>0</td>\n",
       "      <td>...</td>\n",
       "      <td>0</td>\n",
       "      <td>0</td>\n",
       "      <td>0</td>\n",
       "      <td>0</td>\n",
       "      <td>0</td>\n",
       "      <td>0</td>\n",
       "      <td>1</td>\n",
       "      <td>0</td>\n",
       "      <td>0</td>\n",
       "      <td>0</td>\n",
       "    </tr>\n",
       "    <tr>\n",
       "      <th>50880</th>\n",
       "      <td>71</td>\n",
       "      <td>49</td>\n",
       "      <td>2.0</td>\n",
       "      <td>16</td>\n",
       "      <td>28179.2</td>\n",
       "      <td>1</td>\n",
       "      <td>0.245576</td>\n",
       "      <td>1</td>\n",
       "      <td>0</td>\n",
       "      <td>0</td>\n",
       "      <td>...</td>\n",
       "      <td>0</td>\n",
       "      <td>0</td>\n",
       "      <td>0</td>\n",
       "      <td>0</td>\n",
       "      <td>0</td>\n",
       "      <td>0</td>\n",
       "      <td>0</td>\n",
       "      <td>1</td>\n",
       "      <td>0</td>\n",
       "      <td>0</td>\n",
       "    </tr>\n",
       "    <tr>\n",
       "      <th>50881</th>\n",
       "      <td>24</td>\n",
       "      <td>24</td>\n",
       "      <td>2.0</td>\n",
       "      <td>18</td>\n",
       "      <td>11424.0</td>\n",
       "      <td>0</td>\n",
       "      <td>0.237810</td>\n",
       "      <td>0</td>\n",
       "      <td>0</td>\n",
       "      <td>0</td>\n",
       "      <td>...</td>\n",
       "      <td>0</td>\n",
       "      <td>0</td>\n",
       "      <td>0</td>\n",
       "      <td>0</td>\n",
       "      <td>0</td>\n",
       "      <td>0</td>\n",
       "      <td>0</td>\n",
       "      <td>0</td>\n",
       "      <td>1</td>\n",
       "      <td>0</td>\n",
       "    </tr>\n",
       "  </tbody>\n",
       "</table>\n",
       "<p>50882 rows × 59 columns</p>\n",
       "</div>"
      ],
      "text/plain": [
       "       Upper_Age  Lower_Age  Holding_Policy_Duration  Reco_Policy_Cat  \\\n",
       "0             36         36                     14.0               22   \n",
       "1             75         22                      5.0               22   \n",
       "2             32         32                      1.0               19   \n",
       "3             52         48                     14.0               19   \n",
       "4             44         44                      3.0               16   \n",
       "...          ...        ...                      ...              ...   \n",
       "50877         22         22                      5.0               18   \n",
       "50878         27         27                      7.0                4   \n",
       "50879         63         63                     14.0               12   \n",
       "50880         71         49                      2.0               16   \n",
       "50881         24         24                      2.0               18   \n",
       "\n",
       "       Reco_Policy_Premium  Response  Region_code_me  City_Code_C1  \\\n",
       "0                  11628.0         0        0.234394             0   \n",
       "1                  30510.0         0        0.240109             0   \n",
       "2                   7450.0         1        0.244068             0   \n",
       "3                  17780.0         0        0.237470             0   \n",
       "4                  10404.0         0        0.238273             0   \n",
       "...                    ...       ...             ...           ...   \n",
       "50877               7704.0         0        0.243621             0   \n",
       "50878               5408.0         0        0.233741             0   \n",
       "50879              11374.0         0        0.237155             1   \n",
       "50880              28179.2         1        0.245576             1   \n",
       "50881              11424.0         0        0.237810             0   \n",
       "\n",
       "       City_Code_C10  City_Code_C11  ...  Health_Indicator_X4  \\\n",
       "0                  0              0  ...                    0   \n",
       "1                  0              0  ...                    0   \n",
       "2                  0              0  ...                    0   \n",
       "3                  0              0  ...                    0   \n",
       "4                  0              0  ...                    0   \n",
       "...              ...            ...  ...                  ...   \n",
       "50877              0              0  ...                    0   \n",
       "50878              0              0  ...                    0   \n",
       "50879              0              0  ...                    0   \n",
       "50880              0              0  ...                    0   \n",
       "50881              0              0  ...                    0   \n",
       "\n",
       "       Health_Indicator_X5  Health_Indicator_X6  Health_Indicator_X7  \\\n",
       "0                        0                    0                    0   \n",
       "1                        0                    0                    0   \n",
       "2                        0                    0                    0   \n",
       "3                        0                    0                    0   \n",
       "4                        0                    0                    0   \n",
       "...                    ...                  ...                  ...   \n",
       "50877                    0                    0                    0   \n",
       "50878                    0                    0                    0   \n",
       "50879                    0                    0                    0   \n",
       "50880                    0                    0                    0   \n",
       "50881                    0                    0                    0   \n",
       "\n",
       "       Health_Indicator_X8  Health_Indicator_X9  Holding_Policy_Type_1.0  \\\n",
       "0                        0                    0                        0   \n",
       "1                        0                    0                        0   \n",
       "2                        0                    0                        1   \n",
       "3                        0                    0                        0   \n",
       "4                        0                    0                        1   \n",
       "...                    ...                  ...                      ...   \n",
       "50877                    0                    0                        0   \n",
       "50878                    0                    0                        0   \n",
       "50879                    0                    0                        1   \n",
       "50880                    0                    0                        0   \n",
       "50881                    0                    0                        0   \n",
       "\n",
       "       Holding_Policy_Type_2.0  Holding_Policy_Type_3.0  \\\n",
       "0                            0                        1   \n",
       "1                            0                        1   \n",
       "2                            0                        0   \n",
       "3                            0                        1   \n",
       "4                            0                        0   \n",
       "...                        ...                      ...   \n",
       "50877                        0                        1   \n",
       "50878                        0                        1   \n",
       "50879                        0                        0   \n",
       "50880                        1                        0   \n",
       "50881                        0                        1   \n",
       "\n",
       "       Holding_Policy_Type_4.0  \n",
       "0                            0  \n",
       "1                            0  \n",
       "2                            0  \n",
       "3                            0  \n",
       "4                            0  \n",
       "...                        ...  \n",
       "50877                        0  \n",
       "50878                        0  \n",
       "50879                        0  \n",
       "50880                        0  \n",
       "50881                        0  \n",
       "\n",
       "[50882 rows x 59 columns]"
      ]
     },
     "execution_count": 496,
     "metadata": {},
     "output_type": "execute_result"
    }
   ],
   "source": [
    "df_train\n"
   ]
  },
  {
   "cell_type": "code",
   "execution_count": null,
   "metadata": {},
   "outputs": [],
   "source": []
  }
 ],
 "metadata": {
  "kernelspec": {
   "display_name": "Python 3",
   "language": "python",
   "name": "python3"
  },
  "language_info": {
   "codemirror_mode": {
    "name": "ipython",
    "version": 3
   },
   "file_extension": ".py",
   "mimetype": "text/x-python",
   "name": "python",
   "nbconvert_exporter": "python",
   "pygments_lexer": "ipython3",
   "version": "3.8.3"
  }
 },
 "nbformat": 4,
 "nbformat_minor": 4
}
